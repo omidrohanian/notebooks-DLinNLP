{
 "cells": [
  {
   "cell_type": "markdown",
   "metadata": {},
   "source": [
    "## Frequently Asked Questions "
   ]
  },
  {
   "cell_type": "markdown",
   "metadata": {},
   "source": [
    "* <i>What is the required background to attend the summer school?</i>\n",
    "\n",
    "Apart from a general knowledge in the Python programming language, you are assumed to have a basic understanding of Natural Language Processing (aka Computational Linguistics) and be familiar with common mathematical notions in deep learning such as matrices/tensors, matrix multiplication etc. However, for the most part, the lectures and coding sessions will not assume an advanced level of knowledge. When preparation is necessary for any particular session, we will list it separately in the Preparatory Material section. "
   ]
  },
  {
   "cell_type": "markdown",
   "metadata": {},
   "source": [
    "* <i>Do I need a GPU-powered computer to follow along with the instructions and execute the code?</i>\n",
    "\n",
    "No. You only need to bring your laptops and make sure you have internet connection. All the code will be written and executed on Google Colab for which you only need to have a Gmail account. On Colab you don't need to install any programs."
   ]
  },
  {
   "cell_type": "markdown",
   "metadata": {},
   "source": [
    "* <i>What if for whatever reason I won't have access to internet during the presentation?</i>\n",
    "\n",
    "No worries. The datasets used for demonstrations would be small enough to be run on CPU as well. As a backup option for the unlikely event when internet access is limited, you can install PyTorch beforehand using conda and run the code locally on Jupyter notebooks."
   ]
  },
  {
   "cell_type": "markdown",
   "metadata": {},
   "source": [
    "* <i>Is it easy to use Google Colab?</i>\n",
    "\n",
    "Yes, it's almost identical to Jupyter (IPython) notebooks. The only difference here is, we upload the required files to Google Drive and run one or two extra lines to connect Colab to Google Drive. This is pretty straightforward, however, just to make sure we will be all on the same page, have a look at [this instruction on how to run Colab and connect it to Google Drive](https://github.com/omidrohanian/notebooks-DLinNLP/blob/master/googledrive.ipynb). "
   ]
  },
  {
   "cell_type": "markdown",
   "metadata": {},
   "source": [
    "* <i>Am I expected to know some PyTorch beforehand?</i>\n",
    "\n",
    "There will be an introduction to PyTorch from scratch, assuming no background in any deep learning toolkits. However, we have written an introductory notebook that you can read before attending the sessions. It includes the basics of tensor manipulation in PyTorch, and some general notions such as backpropagation and gradients. This material is optional, nonetheless we strongly recommend that you take the time to familiarise yourself with the nuts and bolts of what you will be working on in the summer school. Also make sure you know what is expected in each session by reading the Preparatory Material page."
   ]
  }
 ],
 "metadata": {
  "kernelspec": {
   "display_name": "Python 3",
   "language": "python",
   "name": "python3"
  },
  "language_info": {
   "codemirror_mode": {
    "name": "ipython",
    "version": 3
   },
   "file_extension": ".py",
   "mimetype": "text/x-python",
   "name": "python",
   "nbconvert_exporter": "python",
   "pygments_lexer": "ipython3",
   "version": "3.6.8"
  }
 },
 "nbformat": 4,
 "nbformat_minor": 2
}
