{
 "cells": [
  {
   "cell_type": "markdown",
   "metadata": {},
   "source": [
    "### How to Use Google Colab with Google Drive"
   ]
  },
  {
   "cell_type": "markdown",
   "metadata": {},
   "source": [
    "If you have a gmail account, you can simply head over to [Google Colab](https://colab.research.google.com/) and sign in. A page pops up where you can click on NEW PYTHON3 NOTEBOOK. You can altentively reach this from the drop-down menu (`File`->`New Python 3 Notebook`). "
   ]
  },
  {
   "cell_type": "markdown",
   "metadata": {},
   "source": [
    "For the sake of demonstration, let's assume we have a `sample_text.txt` file uploaded on [Google Drive](https://drive.google.com).  The following two lines authorises access to Google Drive:"
   ]
  },
  {
   "cell_type": "markdown",
   "metadata": {},
   "source": [
    "``from google.colab import drive\n",
    "drive.mount('/content/drive/')``"
   ]
  },
  {
   "cell_type": "markdown",
   "metadata": {},
   "source": [
    "At which point a link appears asking you to enter an authorisation code:"
   ]
  },
  {
   "cell_type": "markdown",
   "metadata": {},
   "source": [
    "<img src=\"authorization_link.png\" title=\"Authentication Code\"  width=\"900\" />"
   ]
  },
  {
   "cell_type": "markdown",
   "metadata": {},
   "source": [
    "When you click on the link and choose the preferred gmail account and sign in, another page opens where at the bottom right there is an Allow button. When you click that, a code is generated. Simply copy and paste this code into Colab.    "
   ]
  },
  {
   "cell_type": "markdown",
   "metadata": {},
   "source": [
    "Now you can open the file easily. Just make sure you use the full address like the following:"
   ]
  },
  {
   "cell_type": "markdown",
   "metadata": {},
   "source": [
    "<img src=\"access_file.png\" title=\"Acess Text File\"  width=\"900\" />"
   ]
  },
  {
   "cell_type": "markdown",
   "metadata": {},
   "source": [
    "Make sure you run your code on GPU. From the drop-down menu go to `Runtime`->`Change runtime type` and set `Hardware accelerator` from `None` to `GPU`. "
   ]
  },
  {
   "cell_type": "code",
   "execution_count": null,
   "metadata": {},
   "outputs": [],
   "source": []
  }
 ],
 "metadata": {
  "kernelspec": {
   "display_name": "Python 3",
   "language": "python",
   "name": "python3"
  },
  "language_info": {
   "codemirror_mode": {
    "name": "ipython",
    "version": 3
   },
   "file_extension": ".py",
   "mimetype": "text/x-python",
   "name": "python",
   "nbconvert_exporter": "python",
   "pygments_lexer": "ipython3",
   "version": "3.6.8"
  }
 },
 "nbformat": 4,
 "nbformat_minor": 2
}
